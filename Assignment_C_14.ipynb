{
 "cells": [
  {
   "cell_type": "code",
   "execution_count": 1,
   "metadata": {},
   "outputs": [],
   "source": [
    "# Gdata, G2, G3"
   ]
  },
  {
   "cell_type": "code",
   "execution_count": 2,
   "metadata": {},
   "outputs": [],
   "source": [
    "import igraph\n",
    "import pandas as pd\n",
    "import numpy as np\n",
    "from numpy import linalg as LA\n",
    "import matplotlib.pyplot as plt\n",
    "from collections import Counter \n",
    "from collections import defaultdict\n",
    "graph_data = pd.read_csv(\"manufacturing_emails_temporal_network.csv\", sep = \",\")"
   ]
  },
  {
   "cell_type": "code",
   "execution_count": 3,
   "metadata": {},
   "outputs": [],
   "source": [
    "G_data = pd.read_csv(\"manufacturing_emails_temporal_network.csv\", sep = \",\")\n",
    "G_2 = pd.read_csv(\"manufacturing_emails_temporal_network.csv\", sep = \",\")\n",
    "G_3x = pd.read_csv(\"manufacturing_emails_temporal_network.csv\", sep = \",\")\n",
    "G_3 = pd.read_csv(\"manufacturing_emails_temporal_network.csv\", sep = \",\")"
   ]
  },
  {
   "cell_type": "code",
   "execution_count": 4,
   "metadata": {},
   "outputs": [
    {
     "data": {
      "text/html": [
       "<div>\n",
       "<style scoped>\n",
       "    .dataframe tbody tr th:only-of-type {\n",
       "        vertical-align: middle;\n",
       "    }\n",
       "\n",
       "    .dataframe tbody tr th {\n",
       "        vertical-align: top;\n",
       "    }\n",
       "\n",
       "    .dataframe thead th {\n",
       "        text-align: right;\n",
       "    }\n",
       "</style>\n",
       "<table border=\"1\" class=\"dataframe\">\n",
       "  <thead>\n",
       "    <tr style=\"text-align: right;\">\n",
       "      <th></th>\n",
       "      <th>node1</th>\n",
       "      <th>node2</th>\n",
       "      <th>timestamp</th>\n",
       "    </tr>\n",
       "  </thead>\n",
       "  <tbody>\n",
       "    <tr>\n",
       "      <th>0</th>\n",
       "      <td>1</td>\n",
       "      <td>2</td>\n",
       "      <td>1</td>\n",
       "    </tr>\n",
       "    <tr>\n",
       "      <th>1</th>\n",
       "      <td>1</td>\n",
       "      <td>3</td>\n",
       "      <td>1</td>\n",
       "    </tr>\n",
       "    <tr>\n",
       "      <th>2</th>\n",
       "      <td>1</td>\n",
       "      <td>4</td>\n",
       "      <td>1</td>\n",
       "    </tr>\n",
       "    <tr>\n",
       "      <th>3</th>\n",
       "      <td>1</td>\n",
       "      <td>5</td>\n",
       "      <td>1</td>\n",
       "    </tr>\n",
       "    <tr>\n",
       "      <th>4</th>\n",
       "      <td>1</td>\n",
       "      <td>6</td>\n",
       "      <td>1</td>\n",
       "    </tr>\n",
       "  </tbody>\n",
       "</table>\n",
       "</div>"
      ],
      "text/plain": [
       "   node1  node2  timestamp\n",
       "0      1      2          1\n",
       "1      1      3          1\n",
       "2      1      4          1\n",
       "3      1      5          1\n",
       "4      1      6          1"
      ]
     },
     "execution_count": 4,
     "metadata": {},
     "output_type": "execute_result"
    }
   ],
   "source": [
    "G_data.head() #G_data can be used here"
   ]
  },
  {
   "cell_type": "code",
   "execution_count": 5,
   "metadata": {},
   "outputs": [],
   "source": [
    "from random import shuffle"
   ]
  },
  {
   "cell_type": "code",
   "execution_count": 6,
   "metadata": {},
   "outputs": [
    {
     "name": "stdout",
     "output_type": "stream",
     "text": [
      "[18417, 19478, 51195, 1020, 4921]\n"
     ]
    }
   ],
   "source": [
    "timestamp_g2 = G_data.timestamp\n",
    "timestamp_g2 = list(timestamp_g2)\n",
    "shuffle(timestamp_g2)\n",
    "print(timestamp_g2[0:5])"
   ]
  },
  {
   "cell_type": "code",
   "execution_count": 7,
   "metadata": {},
   "outputs": [],
   "source": [
    "for i in range(len(G_2)):\n",
    "    G_2.timestamp[i]=timestamp_g2[i]"
   ]
  },
  {
   "cell_type": "code",
   "execution_count": 8,
   "metadata": {},
   "outputs": [
    {
     "data": {
      "text/plain": [
       "0    18417\n",
       "1    19478\n",
       "2    51195\n",
       "3     1020\n",
       "4     4921\n",
       "Name: timestamp, dtype: int64"
      ]
     },
     "execution_count": 8,
     "metadata": {},
     "output_type": "execute_result"
    }
   ],
   "source": [
    "G_2.timestamp[0:5]"
   ]
  },
  {
   "cell_type": "code",
   "execution_count": 9,
   "metadata": {},
   "outputs": [
    {
     "data": {
      "text/html": [
       "<div>\n",
       "<style scoped>\n",
       "    .dataframe tbody tr th:only-of-type {\n",
       "        vertical-align: middle;\n",
       "    }\n",
       "\n",
       "    .dataframe tbody tr th {\n",
       "        vertical-align: top;\n",
       "    }\n",
       "\n",
       "    .dataframe thead th {\n",
       "        text-align: right;\n",
       "    }\n",
       "</style>\n",
       "<table border=\"1\" class=\"dataframe\">\n",
       "  <thead>\n",
       "    <tr style=\"text-align: right;\">\n",
       "      <th></th>\n",
       "      <th>node1</th>\n",
       "      <th>node2</th>\n",
       "      <th>timestamp</th>\n",
       "    </tr>\n",
       "  </thead>\n",
       "  <tbody>\n",
       "    <tr>\n",
       "      <th>0</th>\n",
       "      <td>1</td>\n",
       "      <td>2</td>\n",
       "      <td>18417</td>\n",
       "    </tr>\n",
       "    <tr>\n",
       "      <th>1</th>\n",
       "      <td>1</td>\n",
       "      <td>3</td>\n",
       "      <td>19478</td>\n",
       "    </tr>\n",
       "    <tr>\n",
       "      <th>2</th>\n",
       "      <td>1</td>\n",
       "      <td>4</td>\n",
       "      <td>51195</td>\n",
       "    </tr>\n",
       "    <tr>\n",
       "      <th>3</th>\n",
       "      <td>1</td>\n",
       "      <td>5</td>\n",
       "      <td>1020</td>\n",
       "    </tr>\n",
       "    <tr>\n",
       "      <th>4</th>\n",
       "      <td>1</td>\n",
       "      <td>6</td>\n",
       "      <td>4921</td>\n",
       "    </tr>\n",
       "  </tbody>\n",
       "</table>\n",
       "</div>"
      ],
      "text/plain": [
       "   node1  node2  timestamp\n",
       "0      1      2      18417\n",
       "1      1      3      19478\n",
       "2      1      4      51195\n",
       "3      1      5       1020\n",
       "4      1      6       4921"
      ]
     },
     "execution_count": 9,
     "metadata": {},
     "output_type": "execute_result"
    }
   ],
   "source": [
    "G_2.head() #G_2 can be used here"
   ]
  },
  {
   "cell_type": "code",
   "execution_count": 10,
   "metadata": {},
   "outputs": [],
   "source": [
    "#timestamp_g3=list(G_3x.timestamp)"
   ]
  },
  {
   "cell_type": "code",
   "execution_count": 11,
   "metadata": {},
   "outputs": [],
   "source": [
    "#from random import seed\n",
    "#from random import randint\n",
    "#seed(1)"
   ]
  },
  {
   "cell_type": "code",
   "execution_count": 12,
   "metadata": {},
   "outputs": [],
   "source": [
    "#len(G_3)"
   ]
  },
  {
   "cell_type": "code",
   "execution_count": 13,
   "metadata": {},
   "outputs": [],
   "source": [
    "#for i in range(len(G_3)):\n",
    "#    G_3.timestamp[i]=0"
   ]
  },
  {
   "cell_type": "code",
   "execution_count": 14,
   "metadata": {},
   "outputs": [],
   "source": [
    "#G_3.head()"
   ]
  },
  {
   "cell_type": "code",
   "execution_count": 15,
   "metadata": {},
   "outputs": [],
   "source": [
    "#sum=0\n",
    "#for i in range(len(timestamp_g3)):\n",
    "#    value = randint(0, len(G_3x)-1)\n",
    "#    #print(\"value：\",value)\n",
    "#    if(G_3.timestamp[value]==0):\n",
    "#        G_3.timestamp[value]=\\\n",
    "#        timestamp_g3[i]\n",
    "#    else:\n",
    "#        G_3x.timestamp[value]=\\\n",
    "#        timestamp_g3[i]\n",
    "#        sum+=1\n",
    "#        G_3=G_3.append(G_3x[value:value+1],\\\n",
    "#                   ignore_index=True)"
   ]
  },
  {
   "cell_type": "code",
   "execution_count": 16,
   "metadata": {},
   "outputs": [],
   "source": [
    "#len(G_3)"
   ]
  },
  {
   "cell_type": "code",
   "execution_count": 17,
   "metadata": {},
   "outputs": [],
   "source": [
    "#sum=0\n",
    "#for i in range(len(G_3)):\n",
    "#    if(G_3.timestamp[i]==0): \n",
    "#        sum+=1\n",
    "#        G_3=G_3.drop([i], axis=0)\n",
    "#sum"
   ]
  },
  {
   "cell_type": "code",
   "execution_count": 18,
   "metadata": {},
   "outputs": [],
   "source": [
    "#G_3.to_csv(r'D:\\Anaconda3\\envs\\MDC\\G_3.csv')"
   ]
  },
  {
   "cell_type": "code",
   "execution_count": 19,
   "metadata": {},
   "outputs": [],
   "source": [
    "# G_3.to_csv(r'D:\\Anaconda3\\envs\\MDC\\G_3.csv') #this cost a lot of time so I write into csv\n",
    "# so you can just run \n",
    "G_3 = pd.read_csv(\"G_3.csv\", sep = \",\")"
   ]
  },
  {
   "cell_type": "code",
   "execution_count": 20,
   "metadata": {},
   "outputs": [],
   "source": [
    "G_3 = G_3.drop(\"Unnamed: 0\", axis=1)"
   ]
  },
  {
   "cell_type": "code",
   "execution_count": 21,
   "metadata": {},
   "outputs": [],
   "source": [
    "## Answer to 14"
   ]
  },
  {
   "cell_type": "code",
   "execution_count": 22,
   "metadata": {},
   "outputs": [],
   "source": [
    "def computing_hist(G):\n",
    "    graph_nodes = G.drop([\"timestamp\"], axis=1)\n",
    "    G_nodes = [tuple(sorted(x)) for x in graph_nodes.values]\n",
    "    \n",
    "    keymax=max(G.timestamp)\n",
    "    key = range(1,keymax+1)\n",
    "    Temp = []\n",
    "    for i in range(len(G_nodes)):\n",
    "        a = []\n",
    "        a.append(G_nodes[i])\n",
    "        a.append(G.timestamp[i])\n",
    "        a=tuple(a)\n",
    "        Temp.append(a)  \n",
    "    \n",
    "    d = defaultdict(list)\n",
    "    for k, v in Temp:\n",
    "        d[k].append(v)\n",
    "        d[k].sort()\n",
    "\n",
    "    diff_list =[]\n",
    "    for k,value in d.items(): \n",
    "        if(len(value)>1):\n",
    "            for x, y in zip(value[0::],value[1::]): \n",
    "                diff_list.append(y-x) \n",
    "    diff_list.sort()\n",
    "\n",
    "    hist=dict(Counter(diff_list))\n",
    "\n",
    "    total=0\n",
    "    for key,value in hist.items():\n",
    "        total+=value\n",
    "    \n",
    "    return hist, total"
   ]
  },
  {
   "cell_type": "code",
   "execution_count": 23,
   "metadata": {},
   "outputs": [],
   "source": [
    "a, total =computing_hist(G_data)\n",
    "x1, y1 = zip(*a.items()) # unpack a list of pairs into two tuples\n",
    "y1=tuple([1/total*i for i in y1])"
   ]
  },
  {
   "cell_type": "code",
   "execution_count": 24,
   "metadata": {
    "scrolled": false
   },
   "outputs": [],
   "source": [
    "a, total =computing_hist(G_2)\n",
    "x2, y2 = zip(*a.items()) # unpack a list of pairs into two tuples\n",
    "y2=tuple([1/total*i for i in y2])"
   ]
  },
  {
   "cell_type": "code",
   "execution_count": 25,
   "metadata": {},
   "outputs": [],
   "source": [
    "a, total =computing_hist(G_3)\n",
    "x3, y3 = zip(*a.items()) # unpack a list of pairs into two tuples\n",
    "y3=tuple([1/total*i for i in y3])"
   ]
  },
  {
   "cell_type": "code",
   "execution_count": 26,
   "metadata": {},
   "outputs": [
    {
     "data": {
      "image/png": "[encoded data removed]",
      "text/plain": [
       "<Figure size 432x288 with 1 Axes>"
      ]
     },
     "metadata": {
      "needs_background": "light"
     },
     "output_type": "display_data"
    }
   ],
   "source": [
    "plt.plot(x1, y1, 'orange', label='Gdata')\n",
    "plt.plot(x2, y2, 'blue', label='G2')\n",
    "plt.plot(x3, y3, 'green', label='G3')\n",
    "\n",
    "plt.ylabel('Pdf G, G2 and G3')\n",
    "plt.xlabel('Time difference')\n",
    "plt.title('probability density function')\n",
    "plt.legend()\n",
    "plt.xlim(0,100)\n",
    "plt.show()"
   ]
  },
  {
   "cell_type": "code",
   "execution_count": 27,
   "metadata": {},
   "outputs": [
    {
     "data": {
      "image/png": "[encoded data removed]",
      "text/plain": [
       "<Figure size 432x288 with 1 Axes>"
      ]
     },
     "metadata": {
      "needs_background": "light"
     },
     "output_type": "display_data"
    }
   ],
   "source": [
    "plt.plot(x1, y1, 'orange', label='Gdata')\n",
    "plt.plot(x2, y2, 'blue', label='G2')\n",
    "plt.plot(x3, y3, 'green', label='G3')\n",
    "\n",
    "plt.ylabel('Pdf G, G2 and G3')\n",
    "plt.xlabel('Time difference')\n",
    "plt.title('probability density function')\n",
    "plt.legend()\n",
    "plt.xlim(2300,2400)\n",
    "plt.show()"
   ]
  },
  {
   "cell_type": "code",
   "execution_count": 28,
   "metadata": {},
   "outputs": [
    {
     "data": {
      "image/png": "[encoded data removed]",
      "text/plain": [
       "<Figure size 432x288 with 1 Axes>"
      ]
     },
     "metadata": {
      "needs_background": "light"
     },
     "output_type": "display_data"
    }
   ],
   "source": [
    "plt.plot(x1, y1, 'orange', label='Gdata')\n",
    "plt.plot(x2, y2, 'blue', label='G2')\n",
    "plt.plot(x3, y3, 'green', label='G3')\n",
    "\n",
    "plt.ylabel('Pdf G, G2 and G3')\n",
    "plt.xlabel('Time difference')\n",
    "plt.title('probability density function')\n",
    "plt.legend()\n",
    "plt.show()"
   ]
  }
 ],
 "metadata": {
  "kernelspec": {
   "display_name": "Python 3",
   "language": "python",
   "name": "python3"
  },
  "language_info": {
   "codemirror_mode": {
    "name": "ipython",
    "version": 3
   },
   "file_extension": ".py",
   "mimetype": "text/x-python",
   "name": "python",
   "nbconvert_exporter": "python",
   "pygments_lexer": "ipython3",
   "version": "3.7.1"
  }
 },
 "nbformat": 4,
 "nbformat_minor": 2
}
